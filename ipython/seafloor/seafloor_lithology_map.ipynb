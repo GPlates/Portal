{
 "cells": [
  {
   "cell_type": "markdown",
   "metadata": {},
   "source": [
    "## This IPython Notebook creates a probabilistic sea floor lithology map by using Stochastic gradient descent (SGD) method.\n",
    " \n",
    " - trainAndSaveModel()\n",
    "     \n",
    "     This function trains the machine learning model and save it to disk. The training takes some time.\n",
    "     \n",
    "     \n",
    " - loadModelAndPredict(lons, lats)\n",
    " \n",
    "     This function predicts the sea floor sediment at given locations.\n",
    "     Input:\n",
    "         lons - a numpy array of longitudes.\n",
    "         lats - a numpy array of latitudes.\n",
    "     Output:\n",
    "         The probability of each sediment type\n",
    "         \n",
    "      \n",
    "      Sediment Type                      ID\n",
    "      gravel                             1 \n",
    "      sand                               2\n",
    "      silt                               3\n",
    "      clay                               4\n",
    "      calcareous ooze                    5\n",
    "      radiolarian ooze                   6\n",
    "      diatom ooze                        7\n",
    "      sponge spicules                    8\n",
    "      mixed ooze                         9\n",
    "      shell and coral fragments          10\n",
    "      ash and volcanic sand/gravel       11\n",
    "      siliceous mud                      12\n",
    "      fine-grained calcareous sediment   13\n",
    "      \n",
    "## For more information and the paper http://portal.gplates.org/static/html/seafloor.html\n",
    " "
   ]
  },
  {
   "cell_type": "code",
   "execution_count": null,
   "metadata": {
    "collapsed": false
   },
   "outputs": [],
   "source": [
    "import sea_floor_map as sfm\n",
    "\n",
    "#WARNING: THIS CELL MAY TAKE A LONG TIME. YOU MAY SKIP THIS CELL IF YOU LIKE.\n",
    "\n",
    "#train the SGD model and save it\n",
    "sfm.trainAndSaveModel()\n"
   ]
  },
  {
   "cell_type": "code",
   "execution_count": null,
   "metadata": {
    "collapsed": false
   },
   "outputs": [],
   "source": [
    "import numpy as np\n",
    "import sea_floor_map as sfm\n",
    "\n",
    "sedimentTypes=[\n",
    "        'gravel',\n",
    "        'sand',\n",
    "        'silt',\n",
    "        'clay',\n",
    "        'calcareous ooze',\n",
    "        'radiolarian ooze',\n",
    "        'diatom ooze',\n",
    "        'sponge spicules',\n",
    "        'mixed ooze',\n",
    "        'shell and coral fragments',\n",
    "        'ash and volcanic sand/gravel',\n",
    "        'siliceous mud',\n",
    "        'fine-grained calcareous sediment'\n",
    "    ]\n",
    "\n",
    "# some random locations\n",
    "lons = np.random.random_sample((5,)) * 360 - 180 #np.array([11,22])\n",
    "lats = np.random.random_sample((5,)) * 180 - 90 #np.array([33,44])\n",
    "\n",
    "#load model and predict\n",
    "Ey = sfm.loadModelAndPredict(lons, lats)\n",
    "\n",
    "#print the predict results\n",
    "for p in zip(lons, lats, Ey):\n",
    "    bestIndex = np.argmax(p[2])\n",
    "    print('The most likely sediment type for location ({0:.2f}, {1:.2f}) is \\\"{2}\\\" with probability of {3:.4f}.'.\n",
    "          format(p[0],p[1],sedimentTypes[bestIndex], p[2][bestIndex]))\n",
    "    #for s in zip(sedimentTypes,p[2]): #print out all the probabilities if you like\n",
    "        #print('{0} : {1:.4f}'.format(s[0], s[1]))\n",
    "        "
   ]
  },
  {
   "cell_type": "code",
   "execution_count": null,
   "metadata": {
    "collapsed": false
   },
   "outputs": [],
   "source": [
    "import matplotlib.pyplot as pl\n",
    "import scipy.stats as stats\n",
    "%matplotlib inline  \n",
    "\n",
    "#Define the region of interest. Change the coordinates here to adjust map size.\n",
    "leftBottom=(-41,-21)\n",
    "rightTop=(41,21)\n",
    "\n",
    "width = rightTop[0]-leftBottom[0]\n",
    "height = rightTop[1]-leftBottom[1]\n",
    "lons, lats = np.meshgrid(\n",
    "    np.linspace(leftBottom[0],rightTop[0],width),\n",
    "    np.linspace(leftBottom[1],rightTop[1],height))\n",
    "\n",
    "#predict\n",
    "Ey = sfm.loadModelAndPredict(lons, lats)\n",
    "\n",
    "#draw maps\n",
    "fig = pl.figure(figsize=(8, 4),dpi=240,frameon=False)\n",
    "ax = pl.Axes(fig, [0., 0., 1., 1.])\n",
    "#ax.set_axis_off()\n",
    "fig.add_axes(ax)\n",
    "pl.ioff()\n",
    "pl.imshow(np.rot90(np.argmax(Ey,axis=1).reshape((width,height))))\n",
    "pl.title('Most Probable Class Label')\n",
    "pl.xlabel('Longitude'); pl.ylabel('Latitude')\n",
    "pl.show()\n",
    "\n",
    "fig = pl.figure(figsize=(8, 4),dpi=240,frameon=False)\n",
    "ax = pl.Axes(fig, [0., 0., 1., 1.])\n",
    "#ax.set_axis_off()\n",
    "fig.add_axes(ax)\n",
    "pl.ioff()\n",
    "pl.imshow(np.rot90(stats.entropy(Ey.T).reshape((width,height))))\n",
    "pl.title('Entropy')\n",
    "pl.xlabel('Longitude'); pl.ylabel('Latitude')\n",
    "pl.show()"
   ]
  },
  {
   "cell_type": "code",
   "execution_count": null,
   "metadata": {
    "collapsed": true
   },
   "outputs": [],
   "source": []
  }
 ],
 "metadata": {
  "kernelspec": {
   "display_name": "Python 3",
   "language": "python",
   "name": "python3"
  },
  "language_info": {
   "codemirror_mode": {
    "name": "ipython",
    "version": 3
   },
   "file_extension": ".py",
   "mimetype": "text/x-python",
   "name": "python",
   "nbconvert_exporter": "python",
   "pygments_lexer": "ipython3",
   "version": "3.4.3"
  }
 },
 "nbformat": 4,
 "nbformat_minor": 0
}
