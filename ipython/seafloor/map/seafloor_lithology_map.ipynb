{
 "cells": [
  {
   "cell_type": "code",
   "execution_count": 8,
   "metadata": {
    "collapsed": false
   },
   "outputs": [
    {
     "name": "stdout",
     "output_type": "stream",
     "text": [
      "Loading data...\n",
      "(15237,)\n",
      "(5000, 13)\n"
     ]
    },
    {
     "name": "stderr",
     "output_type": "stream",
     "text": [
      "/usr/lib/python3/dist-packages/matplotlib/__init__.py:1175: UserWarning:  This call to matplotlib.use() has no effect\n",
      "because the backend has already been chosen;\n",
      "matplotlib.use() must be called *before* pylab, matplotlib.pyplot,\n",
      "or matplotlib.backends is imported for the first time.\n",
      "\n",
      "  warnings.warn(_use_error_msg)\n"
     ]
    },
    {
     "ename": "MemoryError",
     "evalue": "",
     "output_type": "error",
     "traceback": [
      "\u001b[1;31m---------------------------------------------------------------------------\u001b[0m",
      "\u001b[1;31mMemoryError\u001b[0m                               Traceback (most recent call last)",
      "\u001b[1;32m<ipython-input-8-de4c8d044ad3>\u001b[0m in \u001b[0;36m<module>\u001b[1;34m()\u001b[0m\n\u001b[0;32m     97\u001b[0m \u001b[0mprint\u001b[0m\u001b[1;33m(\u001b[0m\u001b[0mweights\u001b[0m\u001b[1;33m.\u001b[0m\u001b[0mshape\u001b[0m\u001b[1;33m)\u001b[0m\u001b[1;33m\u001b[0m\u001b[0m\n\u001b[0;32m     98\u001b[0m \u001b[1;31m# Predict at test points\u001b[0m\u001b[1;33m\u001b[0m\u001b[1;33m\u001b[0m\u001b[0m\n\u001b[1;32m---> 99\u001b[1;33m \u001b[0mEy\u001b[0m \u001b[1;33m=\u001b[0m \u001b[0mclassification\u001b[0m\u001b[1;33m.\u001b[0m\u001b[0mpredict\u001b[0m\u001b[1;33m(\u001b[0m\u001b[0mXs\u001b[0m\u001b[1;33m,\u001b[0m \u001b[0mweights\u001b[0m\u001b[1;33m,\u001b[0m \u001b[0mPhi\u001b[0m\u001b[1;33m,\u001b[0m \u001b[0mlenscales\u001b[0m\u001b[1;33m)\u001b[0m\u001b[1;33m\u001b[0m\u001b[0m\n\u001b[0m\u001b[0;32m    100\u001b[0m \u001b[0mEy_argmax\u001b[0m \u001b[1;33m=\u001b[0m \u001b[0mnp\u001b[0m\u001b[1;33m.\u001b[0m\u001b[0margmax\u001b[0m\u001b[1;33m(\u001b[0m\u001b[0mEy\u001b[0m\u001b[1;33m,\u001b[0m\u001b[0maxis\u001b[0m\u001b[1;33m=\u001b[0m\u001b[1;36m1\u001b[0m\u001b[1;33m)\u001b[0m\u001b[1;33m\u001b[0m\u001b[0m\n\u001b[0;32m    101\u001b[0m \u001b[0mpl\u001b[0m\u001b[1;33m.\u001b[0m\u001b[0mscatter\u001b[0m\u001b[1;33m(\u001b[0m\u001b[0mtestPoints\u001b[0m\u001b[1;33m[\u001b[0m\u001b[1;33m:\u001b[0m\u001b[1;33m,\u001b[0m\u001b[1;36m0\u001b[0m\u001b[1;33m]\u001b[0m\u001b[1;33m,\u001b[0m\u001b[0mtestPoints\u001b[0m\u001b[1;33m[\u001b[0m\u001b[1;33m:\u001b[0m\u001b[1;33m,\u001b[0m\u001b[1;36m1\u001b[0m\u001b[1;33m]\u001b[0m\u001b[1;33m,\u001b[0m\u001b[0mc\u001b[0m\u001b[1;33m=\u001b[0m\u001b[0mEy_argmax\u001b[0m\u001b[1;33m,\u001b[0m\u001b[0mlinewidths\u001b[0m\u001b[1;33m=\u001b[0m\u001b[1;36m0\u001b[0m\u001b[1;33m,\u001b[0m\u001b[0ms\u001b[0m\u001b[1;33m=\u001b[0m\u001b[1;36m50\u001b[0m\u001b[1;33m)\u001b[0m\u001b[1;33m\u001b[0m\u001b[0m\n",
      "\u001b[1;32m/notebooks/revrand/revrand/classification.py\u001b[0m in \u001b[0;36mpredict\u001b[1;34m(X_star, weights, basis, bparams)\u001b[0m\n\u001b[0;32m    157\u001b[0m     \"\"\"\n\u001b[0;32m    158\u001b[0m \u001b[1;33m\u001b[0m\u001b[0m\n\u001b[1;32m--> 159\u001b[1;33m     \u001b[1;32mreturn\u001b[0m \u001b[0msoftmax\u001b[0m\u001b[1;33m(\u001b[0m\u001b[0mbasis\u001b[0m\u001b[1;33m(\u001b[0m\u001b[0mX_star\u001b[0m\u001b[1;33m,\u001b[0m \u001b[1;33m*\u001b[0m\u001b[0mbparams\u001b[0m\u001b[1;33m)\u001b[0m\u001b[1;33m.\u001b[0m\u001b[0mdot\u001b[0m\u001b[1;33m(\u001b[0m\u001b[0mweights\u001b[0m\u001b[1;33m)\u001b[0m\u001b[1;33m,\u001b[0m \u001b[0maxis\u001b[0m\u001b[1;33m=\u001b[0m\u001b[1;36m1\u001b[0m\u001b[1;33m)\u001b[0m\u001b[1;33m\u001b[0m\u001b[0m\n\u001b[0m\u001b[0;32m    160\u001b[0m \u001b[1;33m\u001b[0m\u001b[0m\n\u001b[0;32m    161\u001b[0m \u001b[1;33m\u001b[0m\u001b[0m\n",
      "\u001b[1;32m/notebooks/revrand/revrand/basis_functions/base.py\u001b[0m in \u001b[0;36m__call__\u001b[1;34m(self, X, *lenscales)\u001b[0m\n\u001b[0;32m    529\u001b[0m         \u001b[0mWX\u001b[0m \u001b[1;33m=\u001b[0m \u001b[0mnp\u001b[0m\u001b[1;33m.\u001b[0m\u001b[0mdot\u001b[0m\u001b[1;33m(\u001b[0m\u001b[0mX\u001b[0m\u001b[1;33m,\u001b[0m \u001b[0mself\u001b[0m\u001b[1;33m.\u001b[0m\u001b[0mW\u001b[0m \u001b[1;33m/\u001b[0m \u001b[0mnp\u001b[0m\u001b[1;33m.\u001b[0m\u001b[0masarray\u001b[0m\u001b[1;33m(\u001b[0m\u001b[0mlenscales\u001b[0m\u001b[1;33m)\u001b[0m\u001b[1;33m[\u001b[0m\u001b[1;33m:\u001b[0m\u001b[1;33m,\u001b[0m \u001b[0mnp\u001b[0m\u001b[1;33m.\u001b[0m\u001b[0mnewaxis\u001b[0m\u001b[1;33m]\u001b[0m\u001b[1;33m)\u001b[0m\u001b[1;33m\u001b[0m\u001b[0m\n\u001b[0;32m    530\u001b[0m \u001b[1;33m\u001b[0m\u001b[0m\n\u001b[1;32m--> 531\u001b[1;33m         \u001b[1;32mreturn\u001b[0m \u001b[0mnp\u001b[0m\u001b[1;33m.\u001b[0m\u001b[0mhstack\u001b[0m\u001b[1;33m(\u001b[0m\u001b[1;33m(\u001b[0m\u001b[0mnp\u001b[0m\u001b[1;33m.\u001b[0m\u001b[0mcos\u001b[0m\u001b[1;33m(\u001b[0m\u001b[0mWX\u001b[0m\u001b[1;33m)\u001b[0m\u001b[1;33m,\u001b[0m \u001b[0mnp\u001b[0m\u001b[1;33m.\u001b[0m\u001b[0msin\u001b[0m\u001b[1;33m(\u001b[0m\u001b[0mWX\u001b[0m\u001b[1;33m)\u001b[0m\u001b[1;33m)\u001b[0m\u001b[1;33m)\u001b[0m \u001b[1;33m/\u001b[0m \u001b[0mnp\u001b[0m\u001b[1;33m.\u001b[0m\u001b[0msqrt\u001b[0m\u001b[1;33m(\u001b[0m\u001b[0mself\u001b[0m\u001b[1;33m.\u001b[0m\u001b[0mn\u001b[0m\u001b[1;33m)\u001b[0m\u001b[1;33m\u001b[0m\u001b[0m\n\u001b[0m\u001b[0;32m    532\u001b[0m \u001b[1;33m\u001b[0m\u001b[0m\n\u001b[0;32m    533\u001b[0m     \u001b[1;32mdef\u001b[0m \u001b[0mgrad\u001b[0m\u001b[1;33m(\u001b[0m\u001b[0mself\u001b[0m\u001b[1;33m,\u001b[0m \u001b[0mX\u001b[0m\u001b[1;33m,\u001b[0m \u001b[1;33m*\u001b[0m\u001b[0mlenscales\u001b[0m\u001b[1;33m)\u001b[0m\u001b[1;33m:\u001b[0m\u001b[1;33m\u001b[0m\u001b[0m\n",
      "\u001b[1;32m/usr/lib/python3/dist-packages/numpy/core/shape_base.py\u001b[0m in \u001b[0;36mhstack\u001b[1;34m(tup)\u001b[0m\n\u001b[0;32m    275\u001b[0m         \u001b[1;32mreturn\u001b[0m \u001b[0m_nx\u001b[0m\u001b[1;33m.\u001b[0m\u001b[0mconcatenate\u001b[0m\u001b[1;33m(\u001b[0m\u001b[0marrs\u001b[0m\u001b[1;33m,\u001b[0m \u001b[1;36m0\u001b[0m\u001b[1;33m)\u001b[0m\u001b[1;33m\u001b[0m\u001b[0m\n\u001b[0;32m    276\u001b[0m     \u001b[1;32melse\u001b[0m\u001b[1;33m:\u001b[0m\u001b[1;33m\u001b[0m\u001b[0m\n\u001b[1;32m--> 277\u001b[1;33m         \u001b[1;32mreturn\u001b[0m \u001b[0m_nx\u001b[0m\u001b[1;33m.\u001b[0m\u001b[0mconcatenate\u001b[0m\u001b[1;33m(\u001b[0m\u001b[0marrs\u001b[0m\u001b[1;33m,\u001b[0m \u001b[1;36m1\u001b[0m\u001b[1;33m)\u001b[0m\u001b[1;33m\u001b[0m\u001b[0m\n\u001b[0m",
      "\u001b[1;31mMemoryError\u001b[0m: "
     ]
    },
    {
     "data": {
      "text/plain": [
       "<matplotlib.figure.Figure at 0x7fb7acebd3c8>"
      ]
     },
     "metadata": {},
     "output_type": "display_data"
    }
   ],
   "source": [
    "import matplotlib\n",
    "matplotlib.use('Agg')\n",
    "import logging\n",
    "import numpy as np\n",
    "import matplotlib.pyplot as pl\n",
    "%matplotlib inline  \n",
    "import scipy.stats as stats\n",
    "from revrand.revrand import classification, basis_functions\n",
    "# NOTE: uses commit b5f23b7eac6e84e22a9d223ad9556630b618268d from revrand\n",
    "\n",
    "# Helper function\n",
    "def normaliseInputs(trainingX):\n",
    "    Xmean = np.mean(trainingX, axis=0)\n",
    "    X_norm = trainingX - Xmean\n",
    "    Xmin = np.min(X_norm, axis=0); Xmax = np.max(X_norm, axis=0)\n",
    "    Xrange = Xmax-Xmin\n",
    "    X_norm = X_norm/Xrange\n",
    "    return X_norm, Xmean, Xrange\n",
    "\n",
    "\n",
    "log = logging.getLogger(__name__)\n",
    "logging.basicConfig(level=logging.INFO)\n",
    "\n",
    "# A la Carte classifier setting\n",
    "nbases = 2500\n",
    "lenscale = 0.1\n",
    "reg = 1000.\n",
    "\n",
    "# method = 'SGD'\n",
    "method = 'SGD'\n",
    "batchsize = 100\n",
    "rate = 0.9\n",
    "eta = 1e-6\n",
    "passes = 10\n",
    "\n",
    "# Pre-learnt lengthscales\n",
    "xlen = 0.01333521\n",
    "ylen = 0.03162278\n",
    "lenscales = (xlen,ylen)\n",
    "\n",
    "#collate and normalise data\n",
    "print('Loading data...')\n",
    "data_path = '/notebooks/'\n",
    "data = np.load(data_path + 'seafloorData_final.npz')\n",
    "lat = data['lat']\n",
    "lon = data['lon']\n",
    "labels = data['labels'].ravel().astype(int)\n",
    "ndata = len(labels)\n",
    "\n",
    "'''pl.figure()\n",
    "\n",
    "pl.scatter(lat,lon,c=labels,linewidths=0,s=1)\n",
    "pl.title('Most probable class label')\n",
    "pl.xlabel('longitude'); pl.ylabel('latitude')\n",
    "pl.show()\n",
    "\n",
    "print(ndata)'''\n",
    "\n",
    "#Pad the boundaries\n",
    "lonPos170180Ind = (lon>170)*(lon<180)\n",
    "lonNeg170180Ind = (lon<-170)*(lon>-180)\n",
    "\n",
    "padPosLon = lon[lonNeg170180Ind]+360\n",
    "padPosLat = lat[lonNeg170180Ind]\n",
    "padPosLabel = labels[lonNeg170180Ind[:,0]]\n",
    "\n",
    "padNegLon = lon[lonPos170180Ind]-360\n",
    "padNegLat = lat[lonPos170180Ind]\n",
    "padNegLabel = labels[lonPos170180Ind[:,0]]\n",
    "\n",
    "lon = np.append(np.append(lon,padPosLon), padNegLon)\n",
    "lat = np.append(np.append(lat, padPosLat), padNegLat)\n",
    "labels = np.append(np.append(labels, padPosLabel), padNegLabel)\n",
    "\n",
    "trainingPoints = np.array([lon,lat]).T\n",
    "\n",
    "# Create test data\n",
    "xeva, yeva = np.meshgrid(np.linspace(-180,180,361),np.linspace(-90,90,181))\n",
    "\n",
    "xeva = xeva.T\n",
    "yeva = yeva.T\n",
    "testPoints = np.c_[xeva.ravel(), yeva.ravel()]\n",
    "\n",
    "X, Xmean, Xrange = normaliseInputs(trainingPoints)\n",
    "Xs = (testPoints - Xmean)/Xrange\n",
    "Y = labels\n",
    "\n",
    "# Plot scatter\n",
    "Phi = basis_functions.RandomRBF_ARD(nbases, X.shape[1])\n",
    "pl.figure()\n",
    "print(Y.shape)\n",
    "# learn weights\n",
    "weights, labels = classification.learn_sgd(X, Y, Phi, lenscales,\n",
    "                           regulariser=reg, eta=eta, batchsize=batchsize,\n",
    "                           rate=rate, passes=passes)\n",
    "\n",
    "print(weights.shape)\n",
    "# Predict at test points\n",
    "Ey = classification.predict(Xs, weights, Phi, lenscales)\n",
    "Ey_argmax = np.argmax(Ey,axis=1)\n",
    "pl.scatter(testPoints[:,0],testPoints[:,1],c=Ey_argmax,linewidths=0,s=50)\n",
    "pl.title('Most probable class label')\n",
    "pl.xlabel('longitude'); pl.ylabel('latitude')\n",
    "pl.show()\n",
    "print(Ey_argmax.shape)\n",
    "print(testPoints.shape)\n",
    "#Plot entropy\n",
    "pl.scatter(testPoints[:,0],testPoints[:,1],c=stats.entropy(Ey.T),linewidths=0,s=50)\n",
    "pl.plot(trainingPoints[:,0],trainingPoints[:,1],'b.'); pl.title('Entropy')\n",
    "pl.xlabel('longitude'); pl.ylabel('latitude')\n",
    "pl.show()\n",
    "\n",
    "import IPython; IPython.embed()\n",
    "\n"
   ]
  },
  {
   "cell_type": "code",
   "execution_count": null,
   "metadata": {
    "collapsed": true
   },
   "outputs": [],
   "source": []
  },
  {
   "cell_type": "code",
   "execution_count": null,
   "metadata": {
    "collapsed": true
   },
   "outputs": [],
   "source": []
  }
 ],
 "metadata": {
  "kernelspec": {
   "display_name": "Python 3",
   "language": "python",
   "name": "python3"
  },
  "language_info": {
   "codemirror_mode": {
    "name": "ipython",
    "version": 3
   },
   "file_extension": ".py",
   "mimetype": "text/x-python",
   "name": "python",
   "nbconvert_exporter": "python",
   "pygments_lexer": "ipython3",
   "version": "3.4.3"
  }
 },
 "nbformat": 4,
 "nbformat_minor": 0
}
